{
 "cells": [
  {
   "cell_type": "code",
   "execution_count": 2,
   "metadata": {},
   "outputs": [
    {
     "ename": "ImportError",
     "evalue": "No module named logRegres",
     "output_type": "error",
     "traceback": [
      "\u001b[1;31m---------------------------------------------------------------------------\u001b[0m",
      "\u001b[1;31mImportError\u001b[0m                               Traceback (most recent call last)",
      "\u001b[1;32m<ipython-input-2-5543a2dd6f2a>\u001b[0m in \u001b[0;36m<module>\u001b[1;34m()\u001b[0m\n\u001b[0;32m      8\u001b[0m \u001b[1;32mimport\u001b[0m \u001b[0mmatplotlib\u001b[0m\u001b[1;33m.\u001b[0m\u001b[0mpyplot\u001b[0m \u001b[1;32mas\u001b[0m \u001b[0mplt\u001b[0m\u001b[1;33m\u001b[0m\u001b[0m\n\u001b[0;32m      9\u001b[0m \u001b[1;32mfrom\u001b[0m \u001b[0mmatplotlib\u001b[0m\u001b[1;33m.\u001b[0m\u001b[0mpatches\u001b[0m \u001b[1;32mimport\u001b[0m \u001b[0mRectangle\u001b[0m\u001b[1;33m\u001b[0m\u001b[0m\n\u001b[1;32m---> 10\u001b[1;33m \u001b[1;32mimport\u001b[0m \u001b[0mlogRegres\u001b[0m\u001b[1;33m\u001b[0m\u001b[0m\n\u001b[0m\u001b[0;32m     11\u001b[0m \u001b[1;33m\u001b[0m\u001b[0m\n\u001b[0;32m     12\u001b[0m \u001b[0mdataMat\u001b[0m\u001b[1;33m,\u001b[0m\u001b[0mlabelMat\u001b[0m\u001b[1;33m=\u001b[0m\u001b[0mlogRegres\u001b[0m\u001b[1;33m.\u001b[0m\u001b[0mloadDataSet\u001b[0m\u001b[1;33m(\u001b[0m\u001b[1;33m)\u001b[0m\u001b[1;33m\u001b[0m\u001b[0m\n",
      "\u001b[1;31mImportError\u001b[0m: No module named logRegres"
     ]
    }
   ],
   "source": [
    "'''\n",
    "Created on Oct 6, 2010\n",
    "\n",
    "@author: Peter\n",
    "'''\n",
    "from numpy import *\n",
    "import matplotlib\n",
    "import matplotlib.pyplot as plt\n",
    "from matplotlib.patches import Rectangle\n",
    "import logRegres\n",
    "\n",
    "dataMat,labelMat=logRegres.loadDataSet()\n",
    "dataArr = array(dataMat)\n",
    "weights = logRegres.stocGradAscent0(dataArr,labelMat)\n",
    "\n",
    "n = shape(dataArr)[0] #number of points to create\n",
    "xcord1 = []; ycord1 = []\n",
    "xcord2 = []; ycord2 = []\n",
    "\n",
    "markers =[]\n",
    "colors =[]\n",
    "for i in range(n):\n",
    "    if int(labelMat[i])== 1:\n",
    "        xcord1.append(dataArr[i,1]); ycord1.append(dataArr[i,2])\n",
    "    else:\n",
    "        xcord2.append(dataArr[i,1]); ycord2.append(dataArr[i,2])\n",
    "\n",
    "fig = plt.figure()\n",
    "ax = fig.add_subplot(111)\n",
    "#ax.scatter(xcord,ycord, c=colors, s=markers)\n",
    "type1 = ax.scatter(xcord1, ycord1, s=30, c='red', marker='s')\n",
    "type2 = ax.scatter(xcord2, ycord2, s=30, c='green')\n",
    "x = arange(-3.0, 3.0, 0.1)\n",
    "#weights = [-2.9, 0.72, 1.29]\n",
    "#weights = [-5, 1.09, 1.42]\n",
    "weights = [13.03822793,   1.32877317,  -1.96702074]\n",
    "weights = [4.12,   0.48,  -0.6168]\n",
    "y = (-weights[0]-weights[1]*x)/weights[2]\n",
    "type3 = ax.plot(x, y)\n",
    "#ax.legend([type1, type2, type3], [\"Did Not Like\", \"Liked in Small Doses\", \"Liked in Large Doses\"], loc=2)\n",
    "#ax.axis([-5000,100000,-2,25])\n",
    "plt.xlabel('X1')\n",
    "plt.ylabel('X2')\n",
    "plt.show()"
   ]
  },
  {
   "cell_type": "code",
   "execution_count": null,
   "metadata": {
    "collapsed": true
   },
   "outputs": [],
   "source": []
  }
 ],
 "metadata": {
  "kernelspec": {
   "display_name": "Python 2",
   "language": "python",
   "name": "python2"
  },
  "language_info": {
   "codemirror_mode": {
    "name": "ipython",
    "version": 2
   },
   "file_extension": ".py",
   "mimetype": "text/x-python",
   "name": "python",
   "nbconvert_exporter": "python",
   "pygments_lexer": "ipython2",
   "version": "2.7.13"
  }
 },
 "nbformat": 4,
 "nbformat_minor": 2
}
